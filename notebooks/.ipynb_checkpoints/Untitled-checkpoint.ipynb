{
 "cells": [
  {
   "cell_type": "code",
   "execution_count": 1,
   "id": "aa118bcc-7887-4c8a-a96d-63ef8e9717d4",
   "metadata": {},
   "outputs": [
    {
     "name": "stdout",
     "output_type": "stream",
     "text": [
      "{'updated': 1746438836047, 'country': 'Afghanistan', 'countryInfo': {'_id': 4, 'iso2': 'AF', 'iso3': 'AFG', 'lat': 33, 'long': 65, 'flag': 'https://disease.sh/assets/img/flags/af.png'}, 'cases': 234174, 'todayCases': 0, 'deaths': 7996, 'todayDeaths': 0, 'recovered': 211080, 'todayRecovered': 0, 'active': 15098, 'critical': 0, 'casesPerOneMillion': 5746, 'deathsPerOneMillion': 196, 'tests': 1390730, 'testsPerOneMillion': 34125, 'population': 40754388, 'continent': 'Asia', 'oneCasePerPeople': 174, 'oneDeathPerPeople': 5097, 'oneTestPerPeople': 29, 'activePerOneMillion': 370.46, 'recoveredPerOneMillion': 5179.32, 'criticalPerOneMillion': 0}\n"
     ]
    }
   ],
   "source": [
    "import requests\n",
    "\n",
    "response = requests.get(\"https://disease.sh/v3/covid-19/countries\")\n",
    "data = response.json()\n",
    "print(data[0])\n"
   ]
  },
  {
   "cell_type": "code",
   "execution_count": 2,
   "id": "0db82ed4-c3bf-48ef-b494-e995a4477cc1",
   "metadata": {},
   "outputs": [],
   "source": [
    "import pandas as pd\n",
    "import numpy as np"
   ]
  },
  {
   "cell_type": "code",
   "execution_count": null,
   "id": "28c64f95-a79d-4845-8b5f-d9114d38d8ea",
   "metadata": {},
   "outputs": [],
   "source": []
  }
 ],
 "metadata": {
  "kernelspec": {
   "display_name": "Python 3 (ipykernel)",
   "language": "python",
   "name": "python3"
  },
  "language_info": {
   "codemirror_mode": {
    "name": "ipython",
    "version": 3
   },
   "file_extension": ".py",
   "mimetype": "text/x-python",
   "name": "python",
   "nbconvert_exporter": "python",
   "pygments_lexer": "ipython3",
   "version": "3.13.1"
  }
 },
 "nbformat": 4,
 "nbformat_minor": 5
}
