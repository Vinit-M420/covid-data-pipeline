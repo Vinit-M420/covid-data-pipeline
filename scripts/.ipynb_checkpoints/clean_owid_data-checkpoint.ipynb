{
 "cells": [
  {
   "cell_type": "code",
   "execution_count": 1,
   "id": "57df34de-e859-4b8a-8fd2-722007d6282e",
   "metadata": {},
   "outputs": [],
   "source": [
    "import pandas as pd\n",
    "import numpy as np"
   ]
  },
  {
   "cell_type": "code",
   "execution_count": 16,
   "id": "8ee5ecf0-0057-4c0d-ab7c-7f39b767e368",
   "metadata": {},
   "outputs": [],
   "source": [
    "owid_data = pd.read_csv('../data/owid-covid-data.csv' , \n",
    "                        usecols =['iso_code', 'continent', 'location', 'date','total_cases', 'total_deaths', 'new_cases', 'new_deaths'] )\n",
    "#"
   ]
  },
  {
   "cell_type": "code",
   "execution_count": 18,
   "id": "b5902157-214a-438c-8daa-695084b4b784",
   "metadata": {},
   "outputs": [
    {
     "name": "stdout",
     "output_type": "stream",
     "text": [
      "<class 'pandas.core.frame.DataFrame'>\n",
      "RangeIndex: 429435 entries, 0 to 429434\n",
      "Data columns (total 8 columns):\n",
      " #   Column        Non-Null Count   Dtype  \n",
      "---  ------        --------------   -----  \n",
      " 0   iso_code      429435 non-null  object \n",
      " 1   continent     402910 non-null  object \n",
      " 2   location      429435 non-null  object \n",
      " 3   date          429435 non-null  object \n",
      " 4   total_cases   411804 non-null  float64\n",
      " 5   new_cases     410159 non-null  float64\n",
      " 6   total_deaths  411804 non-null  float64\n",
      " 7   new_deaths    410608 non-null  float64\n",
      "dtypes: float64(4), object(4)\n",
      "memory usage: 26.2+ MB\n"
     ]
    }
   ],
   "source": [
    "owid_data.info()"
   ]
  },
  {
   "cell_type": "code",
   "execution_count": 23,
   "id": "08cfd756-808c-40fa-9b96-63cb071d9957",
   "metadata": {},
   "outputs": [],
   "source": [
    "owid_data = owid_data.astype({'date':'datetime64[ns]'})"
   ]
  },
  {
   "cell_type": "code",
   "execution_count": 24,
   "id": "8f6e91fa-34e2-46d7-a9f5-2a84978857bf",
   "metadata": {},
   "outputs": [
    {
     "name": "stdout",
     "output_type": "stream",
     "text": [
      "<class 'pandas.core.frame.DataFrame'>\n",
      "RangeIndex: 429435 entries, 0 to 429434\n",
      "Data columns (total 8 columns):\n",
      " #   Column        Non-Null Count   Dtype         \n",
      "---  ------        --------------   -----         \n",
      " 0   iso_code      429435 non-null  object        \n",
      " 1   continent     402910 non-null  object        \n",
      " 2   location      429435 non-null  object        \n",
      " 3   date          429435 non-null  datetime64[ns]\n",
      " 4   total_cases   411804 non-null  float64       \n",
      " 5   new_cases     410159 non-null  float64       \n",
      " 6   total_deaths  411804 non-null  float64       \n",
      " 7   new_deaths    410608 non-null  float64       \n",
      "dtypes: datetime64[ns](1), float64(4), object(3)\n",
      "memory usage: 26.2+ MB\n"
     ]
    }
   ],
   "source": [
    "owid_data.info()"
   ]
  },
  {
   "cell_type": "code",
   "execution_count": 26,
   "id": "98bccc18-140f-4207-9a56-1b5f49e7c11f",
   "metadata": {},
   "outputs": [],
   "source": [
    "## del owid\n",
    "# How to delete an dataframe"
   ]
  },
  {
   "cell_type": "code",
   "execution_count": 29,
   "id": "9007b35a-e15f-4e78-80ce-937896daf2ca",
   "metadata": {},
   "outputs": [
    {
     "data": {
      "text/html": [
       "<div>\n",
       "<style scoped>\n",
       "    .dataframe tbody tr th:only-of-type {\n",
       "        vertical-align: middle;\n",
       "    }\n",
       "\n",
       "    .dataframe tbody tr th {\n",
       "        vertical-align: top;\n",
       "    }\n",
       "\n",
       "    .dataframe thead th {\n",
       "        text-align: right;\n",
       "    }\n",
       "</style>\n",
       "<table border=\"1\" class=\"dataframe\">\n",
       "  <thead>\n",
       "    <tr style=\"text-align: right;\">\n",
       "      <th></th>\n",
       "      <th>date</th>\n",
       "      <th>total_cases</th>\n",
       "      <th>new_cases</th>\n",
       "      <th>total_deaths</th>\n",
       "      <th>new_deaths</th>\n",
       "    </tr>\n",
       "  </thead>\n",
       "  <tbody>\n",
       "    <tr>\n",
       "      <th>count</th>\n",
       "      <td>429435</td>\n",
       "      <td>4.118040e+05</td>\n",
       "      <td>410159.00</td>\n",
       "      <td>411804.00</td>\n",
       "      <td>410608.00</td>\n",
       "    </tr>\n",
       "    <tr>\n",
       "      <th>mean</th>\n",
       "      <td>2022-04-21 01:06:25.463691008</td>\n",
       "      <td>7.365292e+06</td>\n",
       "      <td>8017.36</td>\n",
       "      <td>81259.57</td>\n",
       "      <td>71.85</td>\n",
       "    </tr>\n",
       "    <tr>\n",
       "      <th>min</th>\n",
       "      <td>2020-01-01 00:00:00</td>\n",
       "      <td>0.000000e+00</td>\n",
       "      <td>0.00</td>\n",
       "      <td>0.00</td>\n",
       "      <td>0.00</td>\n",
       "    </tr>\n",
       "    <tr>\n",
       "      <th>25%</th>\n",
       "      <td>2021-03-05 00:00:00</td>\n",
       "      <td>6.280750e+03</td>\n",
       "      <td>0.00</td>\n",
       "      <td>43.00</td>\n",
       "      <td>0.00</td>\n",
       "    </tr>\n",
       "    <tr>\n",
       "      <th>50%</th>\n",
       "      <td>2022-04-20 00:00:00</td>\n",
       "      <td>6.365300e+04</td>\n",
       "      <td>0.00</td>\n",
       "      <td>799.00</td>\n",
       "      <td>0.00</td>\n",
       "    </tr>\n",
       "    <tr>\n",
       "      <th>75%</th>\n",
       "      <td>2023-06-08 00:00:00</td>\n",
       "      <td>7.582720e+05</td>\n",
       "      <td>0.00</td>\n",
       "      <td>9574.00</td>\n",
       "      <td>0.00</td>\n",
       "    </tr>\n",
       "    <tr>\n",
       "      <th>max</th>\n",
       "      <td>2024-08-14 00:00:00</td>\n",
       "      <td>7.758668e+08</td>\n",
       "      <td>44236227.00</td>\n",
       "      <td>7057132.00</td>\n",
       "      <td>103719.00</td>\n",
       "    </tr>\n",
       "    <tr>\n",
       "      <th>std</th>\n",
       "      <td>NaN</td>\n",
       "      <td>4.477582e+07</td>\n",
       "      <td>229664.87</td>\n",
       "      <td>441190.14</td>\n",
       "      <td>1368.32</td>\n",
       "    </tr>\n",
       "  </tbody>\n",
       "</table>\n",
       "</div>"
      ],
      "text/plain": [
       "                                date   total_cases    new_cases  total_deaths  \\\n",
       "count                         429435  4.118040e+05    410159.00     411804.00   \n",
       "mean   2022-04-21 01:06:25.463691008  7.365292e+06      8017.36      81259.57   \n",
       "min              2020-01-01 00:00:00  0.000000e+00         0.00          0.00   \n",
       "25%              2021-03-05 00:00:00  6.280750e+03         0.00         43.00   \n",
       "50%              2022-04-20 00:00:00  6.365300e+04         0.00        799.00   \n",
       "75%              2023-06-08 00:00:00  7.582720e+05         0.00       9574.00   \n",
       "max              2024-08-14 00:00:00  7.758668e+08  44236227.00    7057132.00   \n",
       "std                              NaN  4.477582e+07    229664.87     441190.14   \n",
       "\n",
       "       new_deaths  \n",
       "count   410608.00  \n",
       "mean        71.85  \n",
       "min          0.00  \n",
       "25%          0.00  \n",
       "50%          0.00  \n",
       "75%          0.00  \n",
       "max     103719.00  \n",
       "std       1368.32  "
      ]
     },
     "execution_count": 29,
     "metadata": {},
     "output_type": "execute_result"
    }
   ],
   "source": [
    "owid_data.describe().round(2)"
   ]
  },
  {
   "cell_type": "code",
   "execution_count": 32,
   "id": "69c2f360-f911-46e5-be65-af6db7b9eb66",
   "metadata": {},
   "outputs": [
    {
     "data": {
      "text/plain": [
       "255"
      ]
     },
     "execution_count": 32,
     "metadata": {},
     "output_type": "execute_result"
    }
   ],
   "source": [
    "### Countries Count\n",
    "owid_data['location'].nunique() "
   ]
  },
  {
   "cell_type": "code",
   "execution_count": 51,
   "id": "ad72e66c-3446-4cd1-8bfa-2f7d7c89a361",
   "metadata": {},
   "outputs": [],
   "source": [
    "# Get the latest entry for each country\n",
    "latest_owid_data = owid_data.sort_values('date').groupby('location').tail(1)"
   ]
  },
  {
   "cell_type": "code",
   "execution_count": 53,
   "id": "e56474ca-6c25-44fa-8454-34182f419682",
   "metadata": {},
   "outputs": [
    {
     "name": "stdout",
     "output_type": "stream",
     "text": [
      "              location  total_cases\n",
      "278858   North America  124492666.0\n",
      "405124   United States  103436829.0\n",
      "75343            China   99373219.0\n",
      "359237   South America   68809418.0\n",
      "132040          France   38997490.0\n",
      "142084         Germany   38437756.0\n",
      "51907           Brazil   37511921.0\n",
      "360911     South Korea   34571873.0\n",
      "190299           Japan   33803572.0\n",
      "403450  United Kingdom   24974629.0\n"
     ]
    }
   ],
   "source": [
    "# Sort countries by total cases\n",
    "top10 = latest_owid_data.sort_values('total_cases', ascending=False).head(10)\n",
    "#top10 countries with most cases\n",
    "print(top10[['location', 'total_cases']])"
   ]
  },
  {
   "cell_type": "code",
   "execution_count": 54,
   "id": "e66ad0f1-16ed-4149-a145-14d9f41ae886",
   "metadata": {},
   "outputs": [],
   "source": [
    "owid_data.to_csv('../data/owid_covid_cleaned.csv')"
   ]
  },
  {
   "cell_type": "code",
   "execution_count": null,
   "id": "2992f2f2-d111-4d39-9cd3-ae2436557807",
   "metadata": {},
   "outputs": [],
   "source": []
  }
 ],
 "metadata": {
  "kernelspec": {
   "display_name": "Python 3 (ipykernel)",
   "language": "python",
   "name": "python3"
  },
  "language_info": {
   "codemirror_mode": {
    "name": "ipython",
    "version": 3
   },
   "file_extension": ".py",
   "mimetype": "text/x-python",
   "name": "python",
   "nbconvert_exporter": "python",
   "pygments_lexer": "ipython3",
   "version": "3.13.1"
  }
 },
 "nbformat": 4,
 "nbformat_minor": 5
}
